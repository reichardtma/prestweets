{
 "cells": [
  {
   "cell_type": "code",
   "execution_count": 581,
   "id": "d572797f",
   "metadata": {},
   "outputs": [],
   "source": [
    "import os\n",
    "import re\n",
    "import pandas as pd\n",
    "from deep_translator import (GoogleTranslator,\n",
    "                             PonsTranslator,\n",
    "                             LingueeTranslator,\n",
    "                             MyMemoryTranslator)\n",
    "import string \n",
    "from nltk.stem import WordNetLemmatizer\n",
    "from nltk.corpus import stopwords \n",
    "from nltk.tokenize import word_tokenize\n",
    "from sklearn.feature_extraction.text import TfidfVectorizer\n",
    "from sklearn.decomposition import LatentDirichletAllocation\n",
    "from textblob import TextBlob\n",
    "import plotly.express as px"
   ]
  },
  {
   "cell_type": "markdown",
   "id": "6ab62417",
   "metadata": {},
   "source": [
    "## Importing Data"
   ]
  },
  {
   "cell_type": "code",
   "execution_count": 422,
   "id": "1e08c8c3",
   "metadata": {},
   "outputs": [
    {
     "data": {
      "text/plain": [
       "'/home/reichardtma/code/reichardtma/prestweets/notebooks'"
      ]
     },
     "execution_count": 422,
     "metadata": {},
     "output_type": "execute_result"
    }
   ],
   "source": [
    "os.getcwd()"
   ]
  },
  {
   "cell_type": "code",
   "execution_count": 423,
   "id": "e94cfbde",
   "metadata": {},
   "outputs": [
    {
     "data": {
      "text/plain": [
       "'../raw_data'"
      ]
     },
     "execution_count": 423,
     "metadata": {},
     "output_type": "execute_result"
    }
   ],
   "source": [
    "csv_path = os.path.join(\"..\",\"raw_data\")\n",
    "csv_path"
   ]
  },
  {
   "cell_type": "markdown",
   "id": "32b3b1c6",
   "metadata": {},
   "source": [
    "## Processing Data"
   ]
  },
  {
   "cell_type": "code",
   "execution_count": 424,
   "id": "ffccf866",
   "metadata": {},
   "outputs": [],
   "source": [
    "def remove_unnnamed(data):\n",
    "    data = data.drop(columns=['Unnamed: 0'])\n",
    "    return data"
   ]
  },
  {
   "cell_type": "code",
   "execution_count": 425,
   "id": "8f44cc91",
   "metadata": {},
   "outputs": [],
   "source": [
    "def remove_emojis(df):\n",
    "    #df = df.astype(str).apply(lambda x: x.str.encode('ascii', 'ignore').str.decode('ascii'))\n",
    "    if \"Translation\" in df:\n",
    "        res = df[df['Translation'].apply(lambda x: not isinstance(x, float))]\n",
    "    else:\n",
    "        res = df[df['content'].apply(lambda x: not isinstance(x, float))]\n",
    "    return res"
   ]
  },
  {
   "cell_type": "code",
   "execution_count": 458,
   "id": "ff065170",
   "metadata": {},
   "outputs": [],
   "source": [
    "def remove_emtpy_translation(df):\n",
    "    if \"Translation\" in df:\n",
    "        df = df.dropna(subset=['Translation'])\n",
    "    else:\n",
    "        df = df.dropna(subset=['content'])\n",
    "    return df"
   ]
  },
  {
   "cell_type": "code",
   "execution_count": 474,
   "id": "a95340b0",
   "metadata": {},
   "outputs": [],
   "source": [
    "pres = {}"
   ]
  },
  {
   "cell_type": "code",
   "execution_count": 630,
   "id": "c0e2270f",
   "metadata": {},
   "outputs": [],
   "source": [
    "johnson = pd.read_csv(os.path.join(csv_path, 'borisjohnson_tweets.csv'))\n",
    "pres['johnson'] = johnson"
   ]
  },
  {
   "cell_type": "code",
   "execution_count": 631,
   "id": "27b34695",
   "metadata": {},
   "outputs": [],
   "source": [
    "cyril = pd.read_csv(os.path.join(csv_path, 'CyrilRamaphosa_tweets.csv'))\n",
    "pres['cyril'] = cyril"
   ]
  },
  {
   "cell_type": "code",
   "execution_count": 632,
   "id": "25548350",
   "metadata": {},
   "outputs": [],
   "source": [
    "macron = pd.read_csv(os.path.join(csv_path, 'EmmanuelMacron_tweets.csv'))\n",
    "pres['macron'] = macron"
   ]
  },
  {
   "cell_type": "code",
   "execution_count": 633,
   "id": "a3288900",
   "metadata": {},
   "outputs": [],
   "source": [
    "jair = pd.read_csv(os.path.join(csv_path, 'jairbolsonaro_tweets.csv'))\n",
    "pres['jair'] = jair"
   ]
  },
  {
   "cell_type": "code",
   "execution_count": 634,
   "id": "7358d06e",
   "metadata": {},
   "outputs": [],
   "source": [
    "joko = pd.read_csv(os.path.join(csv_path, 'jokowi_tweets.csv'))\n",
    "pres['joko'] = joko"
   ]
  },
  {
   "cell_type": "code",
   "execution_count": null,
   "id": "67f78ffb",
   "metadata": {},
   "outputs": [],
   "source": [
    "#Maybe concetanating the individual dataframes together?\n",
    "\n",
    "#names= ['johnson', 'cyril', 'macron', 'jair', 'joko']\n",
    "#datas = [johnson, cyril, macron, jair, joko]\n",
    "#for name in names:\n",
    "#    for data in datas:\n",
    "#        data.insert(0, 'name', name).drop(columns=['Unnamed: 0'])"
   ]
  },
  {
   "cell_type": "code",
   "execution_count": 480,
   "id": "e2a6feb5",
   "metadata": {},
   "outputs": [],
   "source": [
    "tweets = {}\n",
    "for name, data in pres.items():\n",
    "    data = remove_unnnamed(data)\n",
    "    data = remove_emojis(data)\n",
    "    data = remove_emtpy_translation(data)\n",
    "    tweets[name] = data"
   ]
  },
  {
   "cell_type": "code",
   "execution_count": 482,
   "id": "8215c2ed",
   "metadata": {},
   "outputs": [],
   "source": [
    "def remove_url(s):\n",
    "    try:\n",
    "        s = re.sub(r'http\\S+', '', s)\n",
    "        return s\n",
    "    except:\n",
    "        return s"
   ]
  },
  {
   "cell_type": "code",
   "execution_count": 483,
   "id": "efb8b425",
   "metadata": {},
   "outputs": [],
   "source": [
    "def remove_punctuation(s):\n",
    "    s = ''.join([i for i in s if i not in string.punctuation])\n",
    "    return s"
   ]
  },
  {
   "cell_type": "code",
   "execution_count": 484,
   "id": "83e8954e",
   "metadata": {},
   "outputs": [],
   "source": [
    "def lower_case(s):\n",
    "    s = s.lower()\n",
    "    return s"
   ]
  },
  {
   "cell_type": "code",
   "execution_count": 485,
   "id": "7de9170c",
   "metadata": {},
   "outputs": [],
   "source": [
    "def remove_numbers(s):\n",
    "    s = ''.join(word for word in s if not word.isdigit())\n",
    "    return s"
   ]
  },
  {
   "cell_type": "code",
   "execution_count": 486,
   "id": "fa8c8840",
   "metadata": {},
   "outputs": [],
   "source": [
    "def lemmatize(s):\n",
    "    lemmatizer = WordNetLemmatizer()\n",
    "    s = ''.join(lemmatizer.lemmatize(word) for word in s)\n",
    "    return s"
   ]
  },
  {
   "cell_type": "code",
   "execution_count": 487,
   "id": "7c503bec",
   "metadata": {},
   "outputs": [],
   "source": [
    "def stop_words(s):\n",
    "    stop_words = set(stopwords.words('english')) \n",
    "    word_tokens = word_tokenize(s) \n",
    "    s = ' '.join(w for w in word_tokens if not w in stop_words)\n",
    "    return s"
   ]
  },
  {
   "cell_type": "code",
   "execution_count": 489,
   "id": "58841c39",
   "metadata": {},
   "outputs": [],
   "source": [
    "#Cleaning the strings\n",
    "for name, data in tweets.items():\n",
    "    if \"Translation\" in data:\n",
    "        data['clean_content'] = data['Translation'].apply(remove_url).apply(remove_punctuation).\\\n",
    "        apply(lower_case).apply(remove_numbers).apply(stop_words).apply(lemmatize)\n",
    "    else:\n",
    "        data['clean_content'] = data['content'].apply(remove_url).apply(remove_punctuation).\\\n",
    "        apply(lower_case).apply(remove_numbers).apply(stop_words).apply(lemmatize)\n",
    "    tweets[name] = data"
   ]
  },
  {
   "cell_type": "markdown",
   "id": "3c88e136",
   "metadata": {},
   "source": [
    "## Textblob Sentiment Analysis"
   ]
  },
  {
   "cell_type": "code",
   "execution_count": 500,
   "id": "26636dd3",
   "metadata": {},
   "outputs": [],
   "source": [
    "def polarity(s):\n",
    "    pol = TextBlob(s)\n",
    "    pol = pol.sentiment[0]\n",
    "    return pol\n",
    "\n",
    "def objectivity(s):\n",
    "    obj = TextBlob(s)\n",
    "    obj = obj.sentiment[1]\n",
    "    return obj"
   ]
  },
  {
   "cell_type": "code",
   "execution_count": 501,
   "id": "108687de",
   "metadata": {},
   "outputs": [],
   "source": [
    "sentiment = {}\n",
    "for person, data in tweets.items():\n",
    "    data['polarity'] = data['clean_content'].apply(polarity)\n",
    "    data['objectivity'] = data['clean_content'].apply(objectivity)\n",
    "    sentiment[person] = data"
   ]
  },
  {
   "cell_type": "code",
   "execution_count": 578,
   "id": "d0bd0e7a",
   "metadata": {},
   "outputs": [
    {
     "data": {
      "text/html": [
       "<div>\n",
       "<style scoped>\n",
       "    .dataframe tbody tr th:only-of-type {\n",
       "        vertical-align: middle;\n",
       "    }\n",
       "\n",
       "    .dataframe tbody tr th {\n",
       "        vertical-align: top;\n",
       "    }\n",
       "\n",
       "    .dataframe thead th {\n",
       "        text-align: right;\n",
       "    }\n",
       "</style>\n",
       "<table border=\"1\" class=\"dataframe\">\n",
       "  <thead>\n",
       "    <tr style=\"text-align: right;\">\n",
       "      <th></th>\n",
       "      <th>polarity</th>\n",
       "      <th>objectivity</th>\n",
       "    </tr>\n",
       "  </thead>\n",
       "  <tbody>\n",
       "    <tr>\n",
       "      <th>johnson</th>\n",
       "      <td>0.175356</td>\n",
       "      <td>0.432986</td>\n",
       "    </tr>\n",
       "    <tr>\n",
       "      <th>cyril</th>\n",
       "      <td>0.104043</td>\n",
       "      <td>0.344474</td>\n",
       "    </tr>\n",
       "    <tr>\n",
       "      <th>macron</th>\n",
       "      <td>0.084495</td>\n",
       "      <td>0.266946</td>\n",
       "    </tr>\n",
       "    <tr>\n",
       "      <th>jair</th>\n",
       "      <td>0.071982</td>\n",
       "      <td>0.250590</td>\n",
       "    </tr>\n",
       "    <tr>\n",
       "      <th>joko</th>\n",
       "      <td>0.138427</td>\n",
       "      <td>0.381524</td>\n",
       "    </tr>\n",
       "  </tbody>\n",
       "</table>\n",
       "</div>"
      ],
      "text/plain": [
       "         polarity  objectivity\n",
       "johnson  0.175356     0.432986\n",
       "cyril    0.104043     0.344474\n",
       "macron   0.084495     0.266946\n",
       "jair     0.071982     0.250590\n",
       "joko     0.138427     0.381524"
      ]
     },
     "execution_count": 578,
     "metadata": {},
     "output_type": "execute_result"
    }
   ],
   "source": [
    "sentiment_df = {'polarity': [list(sentiment.values())[i]['polarity'].mean() for i in range(0,len(sentiment))],\\\n",
    "                'objectivity': [list(sentiment.values())[i]['objectivity'].mean() for i in range(0,len(sentiment))]}\n",
    "\n",
    "sentiment_df = pd.DataFrame(data=sentiment_df, index=sentiment.keys())\n",
    "sentiment_df"
   ]
  },
  {
   "cell_type": "code",
   "execution_count": 584,
   "id": "69616c7f",
   "metadata": {},
   "outputs": [
    {
     "data": {
      "application/vnd.plotly.v1+json": {
       "config": {
        "plotlyServerURL": "https://plot.ly"
       },
       "data": [
        {
         "hovertemplate": "index=johnson<br>polarity=%{x}<br>objectivity=%{y}<extra></extra>",
         "legendgroup": "johnson",
         "marker": {
          "color": "#636efa",
          "symbol": "circle"
         },
         "mode": "markers",
         "name": "johnson",
         "orientation": "v",
         "showlegend": true,
         "type": "scatter",
         "x": [
          0.17535625116566161
         ],
         "xaxis": "x",
         "y": [
          0.43298585628714403
         ],
         "yaxis": "y"
        },
        {
         "hovertemplate": "index=cyril<br>polarity=%{x}<br>objectivity=%{y}<extra></extra>",
         "legendgroup": "cyril",
         "marker": {
          "color": "#EF553B",
          "symbol": "circle"
         },
         "mode": "markers",
         "name": "cyril",
         "orientation": "v",
         "showlegend": true,
         "type": "scatter",
         "x": [
          0.10404253315404696
         ],
         "xaxis": "x",
         "y": [
          0.34447445355350415
         ],
         "yaxis": "y"
        },
        {
         "hovertemplate": "index=macron<br>polarity=%{x}<br>objectivity=%{y}<extra></extra>",
         "legendgroup": "macron",
         "marker": {
          "color": "#00cc96",
          "symbol": "circle"
         },
         "mode": "markers",
         "name": "macron",
         "orientation": "v",
         "showlegend": true,
         "type": "scatter",
         "x": [
          0.08449501490081364
         ],
         "xaxis": "x",
         "y": [
          0.2669460345232418
         ],
         "yaxis": "y"
        },
        {
         "hovertemplate": "index=jair<br>polarity=%{x}<br>objectivity=%{y}<extra></extra>",
         "legendgroup": "jair",
         "marker": {
          "color": "#ab63fa",
          "symbol": "circle"
         },
         "mode": "markers",
         "name": "jair",
         "orientation": "v",
         "showlegend": true,
         "type": "scatter",
         "x": [
          0.07198243823917812
         ],
         "xaxis": "x",
         "y": [
          0.25058976668027977
         ],
         "yaxis": "y"
        },
        {
         "hovertemplate": "index=joko<br>polarity=%{x}<br>objectivity=%{y}<extra></extra>",
         "legendgroup": "joko",
         "marker": {
          "color": "#FFA15A",
          "symbol": "circle"
         },
         "mode": "markers",
         "name": "joko",
         "orientation": "v",
         "showlegend": true,
         "type": "scatter",
         "x": [
          0.13842670605959295
         ],
         "xaxis": "x",
         "y": [
          0.3815238921518814
         ],
         "yaxis": "y"
        }
       ],
       "layout": {
        "legend": {
         "title": {
          "text": "index"
         },
         "tracegroupgap": 0
        },
        "margin": {
         "t": 60
        },
        "template": {
         "data": {
          "bar": [
           {
            "error_x": {
             "color": "#2a3f5f"
            },
            "error_y": {
             "color": "#2a3f5f"
            },
            "marker": {
             "line": {
              "color": "#E5ECF6",
              "width": 0.5
             },
             "pattern": {
              "fillmode": "overlay",
              "size": 10,
              "solidity": 0.2
             }
            },
            "type": "bar"
           }
          ],
          "barpolar": [
           {
            "marker": {
             "line": {
              "color": "#E5ECF6",
              "width": 0.5
             },
             "pattern": {
              "fillmode": "overlay",
              "size": 10,
              "solidity": 0.2
             }
            },
            "type": "barpolar"
           }
          ],
          "carpet": [
           {
            "aaxis": {
             "endlinecolor": "#2a3f5f",
             "gridcolor": "white",
             "linecolor": "white",
             "minorgridcolor": "white",
             "startlinecolor": "#2a3f5f"
            },
            "baxis": {
             "endlinecolor": "#2a3f5f",
             "gridcolor": "white",
             "linecolor": "white",
             "minorgridcolor": "white",
             "startlinecolor": "#2a3f5f"
            },
            "type": "carpet"
           }
          ],
          "choropleth": [
           {
            "colorbar": {
             "outlinewidth": 0,
             "ticks": ""
            },
            "type": "choropleth"
           }
          ],
          "contour": [
           {
            "colorbar": {
             "outlinewidth": 0,
             "ticks": ""
            },
            "colorscale": [
             [
              0,
              "#0d0887"
             ],
             [
              0.1111111111111111,
              "#46039f"
             ],
             [
              0.2222222222222222,
              "#7201a8"
             ],
             [
              0.3333333333333333,
              "#9c179e"
             ],
             [
              0.4444444444444444,
              "#bd3786"
             ],
             [
              0.5555555555555556,
              "#d8576b"
             ],
             [
              0.6666666666666666,
              "#ed7953"
             ],
             [
              0.7777777777777778,
              "#fb9f3a"
             ],
             [
              0.8888888888888888,
              "#fdca26"
             ],
             [
              1,
              "#f0f921"
             ]
            ],
            "type": "contour"
           }
          ],
          "contourcarpet": [
           {
            "colorbar": {
             "outlinewidth": 0,
             "ticks": ""
            },
            "type": "contourcarpet"
           }
          ],
          "heatmap": [
           {
            "colorbar": {
             "outlinewidth": 0,
             "ticks": ""
            },
            "colorscale": [
             [
              0,
              "#0d0887"
             ],
             [
              0.1111111111111111,
              "#46039f"
             ],
             [
              0.2222222222222222,
              "#7201a8"
             ],
             [
              0.3333333333333333,
              "#9c179e"
             ],
             [
              0.4444444444444444,
              "#bd3786"
             ],
             [
              0.5555555555555556,
              "#d8576b"
             ],
             [
              0.6666666666666666,
              "#ed7953"
             ],
             [
              0.7777777777777778,
              "#fb9f3a"
             ],
             [
              0.8888888888888888,
              "#fdca26"
             ],
             [
              1,
              "#f0f921"
             ]
            ],
            "type": "heatmap"
           }
          ],
          "heatmapgl": [
           {
            "colorbar": {
             "outlinewidth": 0,
             "ticks": ""
            },
            "colorscale": [
             [
              0,
              "#0d0887"
             ],
             [
              0.1111111111111111,
              "#46039f"
             ],
             [
              0.2222222222222222,
              "#7201a8"
             ],
             [
              0.3333333333333333,
              "#9c179e"
             ],
             [
              0.4444444444444444,
              "#bd3786"
             ],
             [
              0.5555555555555556,
              "#d8576b"
             ],
             [
              0.6666666666666666,
              "#ed7953"
             ],
             [
              0.7777777777777778,
              "#fb9f3a"
             ],
             [
              0.8888888888888888,
              "#fdca26"
             ],
             [
              1,
              "#f0f921"
             ]
            ],
            "type": "heatmapgl"
           }
          ],
          "histogram": [
           {
            "marker": {
             "pattern": {
              "fillmode": "overlay",
              "size": 10,
              "solidity": 0.2
             }
            },
            "type": "histogram"
           }
          ],
          "histogram2d": [
           {
            "colorbar": {
             "outlinewidth": 0,
             "ticks": ""
            },
            "colorscale": [
             [
              0,
              "#0d0887"
             ],
             [
              0.1111111111111111,
              "#46039f"
             ],
             [
              0.2222222222222222,
              "#7201a8"
             ],
             [
              0.3333333333333333,
              "#9c179e"
             ],
             [
              0.4444444444444444,
              "#bd3786"
             ],
             [
              0.5555555555555556,
              "#d8576b"
             ],
             [
              0.6666666666666666,
              "#ed7953"
             ],
             [
              0.7777777777777778,
              "#fb9f3a"
             ],
             [
              0.8888888888888888,
              "#fdca26"
             ],
             [
              1,
              "#f0f921"
             ]
            ],
            "type": "histogram2d"
           }
          ],
          "histogram2dcontour": [
           {
            "colorbar": {
             "outlinewidth": 0,
             "ticks": ""
            },
            "colorscale": [
             [
              0,
              "#0d0887"
             ],
             [
              0.1111111111111111,
              "#46039f"
             ],
             [
              0.2222222222222222,
              "#7201a8"
             ],
             [
              0.3333333333333333,
              "#9c179e"
             ],
             [
              0.4444444444444444,
              "#bd3786"
             ],
             [
              0.5555555555555556,
              "#d8576b"
             ],
             [
              0.6666666666666666,
              "#ed7953"
             ],
             [
              0.7777777777777778,
              "#fb9f3a"
             ],
             [
              0.8888888888888888,
              "#fdca26"
             ],
             [
              1,
              "#f0f921"
             ]
            ],
            "type": "histogram2dcontour"
           }
          ],
          "mesh3d": [
           {
            "colorbar": {
             "outlinewidth": 0,
             "ticks": ""
            },
            "type": "mesh3d"
           }
          ],
          "parcoords": [
           {
            "line": {
             "colorbar": {
              "outlinewidth": 0,
              "ticks": ""
             }
            },
            "type": "parcoords"
           }
          ],
          "pie": [
           {
            "automargin": true,
            "type": "pie"
           }
          ],
          "scatter": [
           {
            "marker": {
             "colorbar": {
              "outlinewidth": 0,
              "ticks": ""
             }
            },
            "type": "scatter"
           }
          ],
          "scatter3d": [
           {
            "line": {
             "colorbar": {
              "outlinewidth": 0,
              "ticks": ""
             }
            },
            "marker": {
             "colorbar": {
              "outlinewidth": 0,
              "ticks": ""
             }
            },
            "type": "scatter3d"
           }
          ],
          "scattercarpet": [
           {
            "marker": {
             "colorbar": {
              "outlinewidth": 0,
              "ticks": ""
             }
            },
            "type": "scattercarpet"
           }
          ],
          "scattergeo": [
           {
            "marker": {
             "colorbar": {
              "outlinewidth": 0,
              "ticks": ""
             }
            },
            "type": "scattergeo"
           }
          ],
          "scattergl": [
           {
            "marker": {
             "colorbar": {
              "outlinewidth": 0,
              "ticks": ""
             }
            },
            "type": "scattergl"
           }
          ],
          "scattermapbox": [
           {
            "marker": {
             "colorbar": {
              "outlinewidth": 0,
              "ticks": ""
             }
            },
            "type": "scattermapbox"
           }
          ],
          "scatterpolar": [
           {
            "marker": {
             "colorbar": {
              "outlinewidth": 0,
              "ticks": ""
             }
            },
            "type": "scatterpolar"
           }
          ],
          "scatterpolargl": [
           {
            "marker": {
             "colorbar": {
              "outlinewidth": 0,
              "ticks": ""
             }
            },
            "type": "scatterpolargl"
           }
          ],
          "scatterternary": [
           {
            "marker": {
             "colorbar": {
              "outlinewidth": 0,
              "ticks": ""
             }
            },
            "type": "scatterternary"
           }
          ],
          "surface": [
           {
            "colorbar": {
             "outlinewidth": 0,
             "ticks": ""
            },
            "colorscale": [
             [
              0,
              "#0d0887"
             ],
             [
              0.1111111111111111,
              "#46039f"
             ],
             [
              0.2222222222222222,
              "#7201a8"
             ],
             [
              0.3333333333333333,
              "#9c179e"
             ],
             [
              0.4444444444444444,
              "#bd3786"
             ],
             [
              0.5555555555555556,
              "#d8576b"
             ],
             [
              0.6666666666666666,
              "#ed7953"
             ],
             [
              0.7777777777777778,
              "#fb9f3a"
             ],
             [
              0.8888888888888888,
              "#fdca26"
             ],
             [
              1,
              "#f0f921"
             ]
            ],
            "type": "surface"
           }
          ],
          "table": [
           {
            "cells": {
             "fill": {
              "color": "#EBF0F8"
             },
             "line": {
              "color": "white"
             }
            },
            "header": {
             "fill": {
              "color": "#C8D4E3"
             },
             "line": {
              "color": "white"
             }
            },
            "type": "table"
           }
          ]
         },
         "layout": {
          "annotationdefaults": {
           "arrowcolor": "#2a3f5f",
           "arrowhead": 0,
           "arrowwidth": 1
          },
          "autotypenumbers": "strict",
          "coloraxis": {
           "colorbar": {
            "outlinewidth": 0,
            "ticks": ""
           }
          },
          "colorscale": {
           "diverging": [
            [
             0,
             "#8e0152"
            ],
            [
             0.1,
             "#c51b7d"
            ],
            [
             0.2,
             "#de77ae"
            ],
            [
             0.3,
             "#f1b6da"
            ],
            [
             0.4,
             "#fde0ef"
            ],
            [
             0.5,
             "#f7f7f7"
            ],
            [
             0.6,
             "#e6f5d0"
            ],
            [
             0.7,
             "#b8e186"
            ],
            [
             0.8,
             "#7fbc41"
            ],
            [
             0.9,
             "#4d9221"
            ],
            [
             1,
             "#276419"
            ]
           ],
           "sequential": [
            [
             0,
             "#0d0887"
            ],
            [
             0.1111111111111111,
             "#46039f"
            ],
            [
             0.2222222222222222,
             "#7201a8"
            ],
            [
             0.3333333333333333,
             "#9c179e"
            ],
            [
             0.4444444444444444,
             "#bd3786"
            ],
            [
             0.5555555555555556,
             "#d8576b"
            ],
            [
             0.6666666666666666,
             "#ed7953"
            ],
            [
             0.7777777777777778,
             "#fb9f3a"
            ],
            [
             0.8888888888888888,
             "#fdca26"
            ],
            [
             1,
             "#f0f921"
            ]
           ],
           "sequentialminus": [
            [
             0,
             "#0d0887"
            ],
            [
             0.1111111111111111,
             "#46039f"
            ],
            [
             0.2222222222222222,
             "#7201a8"
            ],
            [
             0.3333333333333333,
             "#9c179e"
            ],
            [
             0.4444444444444444,
             "#bd3786"
            ],
            [
             0.5555555555555556,
             "#d8576b"
            ],
            [
             0.6666666666666666,
             "#ed7953"
            ],
            [
             0.7777777777777778,
             "#fb9f3a"
            ],
            [
             0.8888888888888888,
             "#fdca26"
            ],
            [
             1,
             "#f0f921"
            ]
           ]
          },
          "colorway": [
           "#636efa",
           "#EF553B",
           "#00cc96",
           "#ab63fa",
           "#FFA15A",
           "#19d3f3",
           "#FF6692",
           "#B6E880",
           "#FF97FF",
           "#FECB52"
          ],
          "font": {
           "color": "#2a3f5f"
          },
          "geo": {
           "bgcolor": "white",
           "lakecolor": "white",
           "landcolor": "#E5ECF6",
           "showlakes": true,
           "showland": true,
           "subunitcolor": "white"
          },
          "hoverlabel": {
           "align": "left"
          },
          "hovermode": "closest",
          "mapbox": {
           "style": "light"
          },
          "paper_bgcolor": "white",
          "plot_bgcolor": "#E5ECF6",
          "polar": {
           "angularaxis": {
            "gridcolor": "white",
            "linecolor": "white",
            "ticks": ""
           },
           "bgcolor": "#E5ECF6",
           "radialaxis": {
            "gridcolor": "white",
            "linecolor": "white",
            "ticks": ""
           }
          },
          "scene": {
           "xaxis": {
            "backgroundcolor": "#E5ECF6",
            "gridcolor": "white",
            "gridwidth": 2,
            "linecolor": "white",
            "showbackground": true,
            "ticks": "",
            "zerolinecolor": "white"
           },
           "yaxis": {
            "backgroundcolor": "#E5ECF6",
            "gridcolor": "white",
            "gridwidth": 2,
            "linecolor": "white",
            "showbackground": true,
            "ticks": "",
            "zerolinecolor": "white"
           },
           "zaxis": {
            "backgroundcolor": "#E5ECF6",
            "gridcolor": "white",
            "gridwidth": 2,
            "linecolor": "white",
            "showbackground": true,
            "ticks": "",
            "zerolinecolor": "white"
           }
          },
          "shapedefaults": {
           "line": {
            "color": "#2a3f5f"
           }
          },
          "ternary": {
           "aaxis": {
            "gridcolor": "white",
            "linecolor": "white",
            "ticks": ""
           },
           "baxis": {
            "gridcolor": "white",
            "linecolor": "white",
            "ticks": ""
           },
           "bgcolor": "#E5ECF6",
           "caxis": {
            "gridcolor": "white",
            "linecolor": "white",
            "ticks": ""
           }
          },
          "title": {
           "x": 0.05
          },
          "xaxis": {
           "automargin": true,
           "gridcolor": "white",
           "linecolor": "white",
           "ticks": "",
           "title": {
            "standoff": 15
           },
           "zerolinecolor": "white",
           "zerolinewidth": 2
          },
          "yaxis": {
           "automargin": true,
           "gridcolor": "white",
           "linecolor": "white",
           "ticks": "",
           "title": {
            "standoff": 15
           },
           "zerolinecolor": "white",
           "zerolinewidth": 2
          }
         }
        },
        "xaxis": {
         "anchor": "y",
         "domain": [
          0,
          1
         ],
         "title": {
          "text": "polarity"
         }
        },
        "yaxis": {
         "anchor": "x",
         "domain": [
          0,
          1
         ],
         "title": {
          "text": "objectivity"
         }
        }
       }
      },
      "text/html": [
       "<div>                            <div id=\"7800f4d0-02f7-400c-bcaf-780ec9bb09a1\" class=\"plotly-graph-div\" style=\"height:525px; width:100%;\"></div>            <script type=\"text/javascript\">                require([\"plotly\"], function(Plotly) {                    window.PLOTLYENV=window.PLOTLYENV || {};                                    if (document.getElementById(\"7800f4d0-02f7-400c-bcaf-780ec9bb09a1\")) {                    Plotly.newPlot(                        \"7800f4d0-02f7-400c-bcaf-780ec9bb09a1\",                        [{\"hovertemplate\":\"index=johnson<br>polarity=%{x}<br>objectivity=%{y}<extra></extra>\",\"legendgroup\":\"johnson\",\"marker\":{\"color\":\"#636efa\",\"symbol\":\"circle\"},\"mode\":\"markers\",\"name\":\"johnson\",\"orientation\":\"v\",\"showlegend\":true,\"x\":[0.17535625116566161],\"xaxis\":\"x\",\"y\":[0.43298585628714403],\"yaxis\":\"y\",\"type\":\"scatter\"},{\"hovertemplate\":\"index=cyril<br>polarity=%{x}<br>objectivity=%{y}<extra></extra>\",\"legendgroup\":\"cyril\",\"marker\":{\"color\":\"#EF553B\",\"symbol\":\"circle\"},\"mode\":\"markers\",\"name\":\"cyril\",\"orientation\":\"v\",\"showlegend\":true,\"x\":[0.10404253315404696],\"xaxis\":\"x\",\"y\":[0.34447445355350415],\"yaxis\":\"y\",\"type\":\"scatter\"},{\"hovertemplate\":\"index=macron<br>polarity=%{x}<br>objectivity=%{y}<extra></extra>\",\"legendgroup\":\"macron\",\"marker\":{\"color\":\"#00cc96\",\"symbol\":\"circle\"},\"mode\":\"markers\",\"name\":\"macron\",\"orientation\":\"v\",\"showlegend\":true,\"x\":[0.08449501490081364],\"xaxis\":\"x\",\"y\":[0.2669460345232418],\"yaxis\":\"y\",\"type\":\"scatter\"},{\"hovertemplate\":\"index=jair<br>polarity=%{x}<br>objectivity=%{y}<extra></extra>\",\"legendgroup\":\"jair\",\"marker\":{\"color\":\"#ab63fa\",\"symbol\":\"circle\"},\"mode\":\"markers\",\"name\":\"jair\",\"orientation\":\"v\",\"showlegend\":true,\"x\":[0.07198243823917812],\"xaxis\":\"x\",\"y\":[0.25058976668027977],\"yaxis\":\"y\",\"type\":\"scatter\"},{\"hovertemplate\":\"index=joko<br>polarity=%{x}<br>objectivity=%{y}<extra></extra>\",\"legendgroup\":\"joko\",\"marker\":{\"color\":\"#FFA15A\",\"symbol\":\"circle\"},\"mode\":\"markers\",\"name\":\"joko\",\"orientation\":\"v\",\"showlegend\":true,\"x\":[0.13842670605959295],\"xaxis\":\"x\",\"y\":[0.3815238921518814],\"yaxis\":\"y\",\"type\":\"scatter\"}],                        {\"template\":{\"data\":{\"bar\":[{\"error_x\":{\"color\":\"#2a3f5f\"},\"error_y\":{\"color\":\"#2a3f5f\"},\"marker\":{\"line\":{\"color\":\"#E5ECF6\",\"width\":0.5},\"pattern\":{\"fillmode\":\"overlay\",\"size\":10,\"solidity\":0.2}},\"type\":\"bar\"}],\"barpolar\":[{\"marker\":{\"line\":{\"color\":\"#E5ECF6\",\"width\":0.5},\"pattern\":{\"fillmode\":\"overlay\",\"size\":10,\"solidity\":0.2}},\"type\":\"barpolar\"}],\"carpet\":[{\"aaxis\":{\"endlinecolor\":\"#2a3f5f\",\"gridcolor\":\"white\",\"linecolor\":\"white\",\"minorgridcolor\":\"white\",\"startlinecolor\":\"#2a3f5f\"},\"baxis\":{\"endlinecolor\":\"#2a3f5f\",\"gridcolor\":\"white\",\"linecolor\":\"white\",\"minorgridcolor\":\"white\",\"startlinecolor\":\"#2a3f5f\"},\"type\":\"carpet\"}],\"choropleth\":[{\"colorbar\":{\"outlinewidth\":0,\"ticks\":\"\"},\"type\":\"choropleth\"}],\"contour\":[{\"colorbar\":{\"outlinewidth\":0,\"ticks\":\"\"},\"colorscale\":[[0.0,\"#0d0887\"],[0.1111111111111111,\"#46039f\"],[0.2222222222222222,\"#7201a8\"],[0.3333333333333333,\"#9c179e\"],[0.4444444444444444,\"#bd3786\"],[0.5555555555555556,\"#d8576b\"],[0.6666666666666666,\"#ed7953\"],[0.7777777777777778,\"#fb9f3a\"],[0.8888888888888888,\"#fdca26\"],[1.0,\"#f0f921\"]],\"type\":\"contour\"}],\"contourcarpet\":[{\"colorbar\":{\"outlinewidth\":0,\"ticks\":\"\"},\"type\":\"contourcarpet\"}],\"heatmap\":[{\"colorbar\":{\"outlinewidth\":0,\"ticks\":\"\"},\"colorscale\":[[0.0,\"#0d0887\"],[0.1111111111111111,\"#46039f\"],[0.2222222222222222,\"#7201a8\"],[0.3333333333333333,\"#9c179e\"],[0.4444444444444444,\"#bd3786\"],[0.5555555555555556,\"#d8576b\"],[0.6666666666666666,\"#ed7953\"],[0.7777777777777778,\"#fb9f3a\"],[0.8888888888888888,\"#fdca26\"],[1.0,\"#f0f921\"]],\"type\":\"heatmap\"}],\"heatmapgl\":[{\"colorbar\":{\"outlinewidth\":0,\"ticks\":\"\"},\"colorscale\":[[0.0,\"#0d0887\"],[0.1111111111111111,\"#46039f\"],[0.2222222222222222,\"#7201a8\"],[0.3333333333333333,\"#9c179e\"],[0.4444444444444444,\"#bd3786\"],[0.5555555555555556,\"#d8576b\"],[0.6666666666666666,\"#ed7953\"],[0.7777777777777778,\"#fb9f3a\"],[0.8888888888888888,\"#fdca26\"],[1.0,\"#f0f921\"]],\"type\":\"heatmapgl\"}],\"histogram\":[{\"marker\":{\"pattern\":{\"fillmode\":\"overlay\",\"size\":10,\"solidity\":0.2}},\"type\":\"histogram\"}],\"histogram2d\":[{\"colorbar\":{\"outlinewidth\":0,\"ticks\":\"\"},\"colorscale\":[[0.0,\"#0d0887\"],[0.1111111111111111,\"#46039f\"],[0.2222222222222222,\"#7201a8\"],[0.3333333333333333,\"#9c179e\"],[0.4444444444444444,\"#bd3786\"],[0.5555555555555556,\"#d8576b\"],[0.6666666666666666,\"#ed7953\"],[0.7777777777777778,\"#fb9f3a\"],[0.8888888888888888,\"#fdca26\"],[1.0,\"#f0f921\"]],\"type\":\"histogram2d\"}],\"histogram2dcontour\":[{\"colorbar\":{\"outlinewidth\":0,\"ticks\":\"\"},\"colorscale\":[[0.0,\"#0d0887\"],[0.1111111111111111,\"#46039f\"],[0.2222222222222222,\"#7201a8\"],[0.3333333333333333,\"#9c179e\"],[0.4444444444444444,\"#bd3786\"],[0.5555555555555556,\"#d8576b\"],[0.6666666666666666,\"#ed7953\"],[0.7777777777777778,\"#fb9f3a\"],[0.8888888888888888,\"#fdca26\"],[1.0,\"#f0f921\"]],\"type\":\"histogram2dcontour\"}],\"mesh3d\":[{\"colorbar\":{\"outlinewidth\":0,\"ticks\":\"\"},\"type\":\"mesh3d\"}],\"parcoords\":[{\"line\":{\"colorbar\":{\"outlinewidth\":0,\"ticks\":\"\"}},\"type\":\"parcoords\"}],\"pie\":[{\"automargin\":true,\"type\":\"pie\"}],\"scatter\":[{\"marker\":{\"colorbar\":{\"outlinewidth\":0,\"ticks\":\"\"}},\"type\":\"scatter\"}],\"scatter3d\":[{\"line\":{\"colorbar\":{\"outlinewidth\":0,\"ticks\":\"\"}},\"marker\":{\"colorbar\":{\"outlinewidth\":0,\"ticks\":\"\"}},\"type\":\"scatter3d\"}],\"scattercarpet\":[{\"marker\":{\"colorbar\":{\"outlinewidth\":0,\"ticks\":\"\"}},\"type\":\"scattercarpet\"}],\"scattergeo\":[{\"marker\":{\"colorbar\":{\"outlinewidth\":0,\"ticks\":\"\"}},\"type\":\"scattergeo\"}],\"scattergl\":[{\"marker\":{\"colorbar\":{\"outlinewidth\":0,\"ticks\":\"\"}},\"type\":\"scattergl\"}],\"scattermapbox\":[{\"marker\":{\"colorbar\":{\"outlinewidth\":0,\"ticks\":\"\"}},\"type\":\"scattermapbox\"}],\"scatterpolar\":[{\"marker\":{\"colorbar\":{\"outlinewidth\":0,\"ticks\":\"\"}},\"type\":\"scatterpolar\"}],\"scatterpolargl\":[{\"marker\":{\"colorbar\":{\"outlinewidth\":0,\"ticks\":\"\"}},\"type\":\"scatterpolargl\"}],\"scatterternary\":[{\"marker\":{\"colorbar\":{\"outlinewidth\":0,\"ticks\":\"\"}},\"type\":\"scatterternary\"}],\"surface\":[{\"colorbar\":{\"outlinewidth\":0,\"ticks\":\"\"},\"colorscale\":[[0.0,\"#0d0887\"],[0.1111111111111111,\"#46039f\"],[0.2222222222222222,\"#7201a8\"],[0.3333333333333333,\"#9c179e\"],[0.4444444444444444,\"#bd3786\"],[0.5555555555555556,\"#d8576b\"],[0.6666666666666666,\"#ed7953\"],[0.7777777777777778,\"#fb9f3a\"],[0.8888888888888888,\"#fdca26\"],[1.0,\"#f0f921\"]],\"type\":\"surface\"}],\"table\":[{\"cells\":{\"fill\":{\"color\":\"#EBF0F8\"},\"line\":{\"color\":\"white\"}},\"header\":{\"fill\":{\"color\":\"#C8D4E3\"},\"line\":{\"color\":\"white\"}},\"type\":\"table\"}]},\"layout\":{\"annotationdefaults\":{\"arrowcolor\":\"#2a3f5f\",\"arrowhead\":0,\"arrowwidth\":1},\"autotypenumbers\":\"strict\",\"coloraxis\":{\"colorbar\":{\"outlinewidth\":0,\"ticks\":\"\"}},\"colorscale\":{\"diverging\":[[0,\"#8e0152\"],[0.1,\"#c51b7d\"],[0.2,\"#de77ae\"],[0.3,\"#f1b6da\"],[0.4,\"#fde0ef\"],[0.5,\"#f7f7f7\"],[0.6,\"#e6f5d0\"],[0.7,\"#b8e186\"],[0.8,\"#7fbc41\"],[0.9,\"#4d9221\"],[1,\"#276419\"]],\"sequential\":[[0.0,\"#0d0887\"],[0.1111111111111111,\"#46039f\"],[0.2222222222222222,\"#7201a8\"],[0.3333333333333333,\"#9c179e\"],[0.4444444444444444,\"#bd3786\"],[0.5555555555555556,\"#d8576b\"],[0.6666666666666666,\"#ed7953\"],[0.7777777777777778,\"#fb9f3a\"],[0.8888888888888888,\"#fdca26\"],[1.0,\"#f0f921\"]],\"sequentialminus\":[[0.0,\"#0d0887\"],[0.1111111111111111,\"#46039f\"],[0.2222222222222222,\"#7201a8\"],[0.3333333333333333,\"#9c179e\"],[0.4444444444444444,\"#bd3786\"],[0.5555555555555556,\"#d8576b\"],[0.6666666666666666,\"#ed7953\"],[0.7777777777777778,\"#fb9f3a\"],[0.8888888888888888,\"#fdca26\"],[1.0,\"#f0f921\"]]},\"colorway\":[\"#636efa\",\"#EF553B\",\"#00cc96\",\"#ab63fa\",\"#FFA15A\",\"#19d3f3\",\"#FF6692\",\"#B6E880\",\"#FF97FF\",\"#FECB52\"],\"font\":{\"color\":\"#2a3f5f\"},\"geo\":{\"bgcolor\":\"white\",\"lakecolor\":\"white\",\"landcolor\":\"#E5ECF6\",\"showlakes\":true,\"showland\":true,\"subunitcolor\":\"white\"},\"hoverlabel\":{\"align\":\"left\"},\"hovermode\":\"closest\",\"mapbox\":{\"style\":\"light\"},\"paper_bgcolor\":\"white\",\"plot_bgcolor\":\"#E5ECF6\",\"polar\":{\"angularaxis\":{\"gridcolor\":\"white\",\"linecolor\":\"white\",\"ticks\":\"\"},\"bgcolor\":\"#E5ECF6\",\"radialaxis\":{\"gridcolor\":\"white\",\"linecolor\":\"white\",\"ticks\":\"\"}},\"scene\":{\"xaxis\":{\"backgroundcolor\":\"#E5ECF6\",\"gridcolor\":\"white\",\"gridwidth\":2,\"linecolor\":\"white\",\"showbackground\":true,\"ticks\":\"\",\"zerolinecolor\":\"white\"},\"yaxis\":{\"backgroundcolor\":\"#E5ECF6\",\"gridcolor\":\"white\",\"gridwidth\":2,\"linecolor\":\"white\",\"showbackground\":true,\"ticks\":\"\",\"zerolinecolor\":\"white\"},\"zaxis\":{\"backgroundcolor\":\"#E5ECF6\",\"gridcolor\":\"white\",\"gridwidth\":2,\"linecolor\":\"white\",\"showbackground\":true,\"ticks\":\"\",\"zerolinecolor\":\"white\"}},\"shapedefaults\":{\"line\":{\"color\":\"#2a3f5f\"}},\"ternary\":{\"aaxis\":{\"gridcolor\":\"white\",\"linecolor\":\"white\",\"ticks\":\"\"},\"baxis\":{\"gridcolor\":\"white\",\"linecolor\":\"white\",\"ticks\":\"\"},\"bgcolor\":\"#E5ECF6\",\"caxis\":{\"gridcolor\":\"white\",\"linecolor\":\"white\",\"ticks\":\"\"}},\"title\":{\"x\":0.05},\"xaxis\":{\"automargin\":true,\"gridcolor\":\"white\",\"linecolor\":\"white\",\"ticks\":\"\",\"title\":{\"standoff\":15},\"zerolinecolor\":\"white\",\"zerolinewidth\":2},\"yaxis\":{\"automargin\":true,\"gridcolor\":\"white\",\"linecolor\":\"white\",\"ticks\":\"\",\"title\":{\"standoff\":15},\"zerolinecolor\":\"white\",\"zerolinewidth\":2}}},\"xaxis\":{\"anchor\":\"y\",\"domain\":[0.0,1.0],\"title\":{\"text\":\"polarity\"}},\"yaxis\":{\"anchor\":\"x\",\"domain\":[0.0,1.0],\"title\":{\"text\":\"objectivity\"}},\"legend\":{\"title\":{\"text\":\"index\"},\"tracegroupgap\":0},\"margin\":{\"t\":60}},                        {\"responsive\": true}                    ).then(function(){\n",
       "                            \n",
       "var gd = document.getElementById('7800f4d0-02f7-400c-bcaf-780ec9bb09a1');\n",
       "var x = new MutationObserver(function (mutations, observer) {{\n",
       "        var display = window.getComputedStyle(gd).display;\n",
       "        if (!display || display === 'none') {{\n",
       "            console.log([gd, 'removed!']);\n",
       "            Plotly.purge(gd);\n",
       "            observer.disconnect();\n",
       "        }}\n",
       "}});\n",
       "\n",
       "// Listen for the removal of the full notebook cells\n",
       "var notebookContainer = gd.closest('#notebook-container');\n",
       "if (notebookContainer) {{\n",
       "    x.observe(notebookContainer, {childList: true});\n",
       "}}\n",
       "\n",
       "// Listen for the clearing of the current output cell\n",
       "var outputEl = gd.closest('.output');\n",
       "if (outputEl) {{\n",
       "    x.observe(outputEl, {childList: true});\n",
       "}}\n",
       "\n",
       "                        })                };                });            </script>        </div>"
      ]
     },
     "metadata": {},
     "output_type": "display_data"
    }
   ],
   "source": [
    "fig = px.scatter(sentiment_df, x=\"polarity\", y=\"objectivity\", color=sentiment_df.index)\n",
    "fig.show()"
   ]
  },
  {
   "cell_type": "markdown",
   "id": "e0cb9aed",
   "metadata": {},
   "source": [
    "## LDA"
   ]
  },
  {
   "cell_type": "code",
   "execution_count": 669,
   "id": "e8753e5a",
   "metadata": {},
   "outputs": [],
   "source": [
    "def lda_model(tweet_dict):\n",
    "    for i in range(0, len(tweet_dict)):\n",
    "        for presname, dataframe in list(tweet_dict.items())[i]:\n",
    "            vectorizer = TfidfVectorizer().fit(dataframe['clean_content'])\n",
    "            data_vectorized = vectorizer.transform(dataframe['clean_content'])\n",
    "            model = LatentDirichletAllocation(n_components=3).fit(data_vectorized)\n",
    "    return model"
   ]
  },
  {
   "cell_type": "code",
   "execution_count": 670,
   "id": "d2dcf7d2",
   "metadata": {},
   "outputs": [],
   "source": [
    "def print_topics(model, vectorizer):\n",
    "    for idx, topic in enumerate(model.components_):\n",
    "        print(\"Topic %d:\" % (idx))\n",
    "        print([(vectorizer.get_feature_names()[i], topic[i])\n",
    "                        for i in topic.argsort()[:-10 - 1:-1]])"
   ]
  },
  {
   "cell_type": "code",
   "execution_count": 671,
   "id": "05e05abb",
   "metadata": {},
   "outputs": [
    {
     "ename": "AttributeError",
     "evalue": "'tuple' object has no attribute 'items'",
     "output_type": "error",
     "traceback": [
      "\u001b[0;31m---------------------------------------------------------------------------\u001b[0m",
      "\u001b[0;31mAttributeError\u001b[0m                            Traceback (most recent call last)",
      "Input \u001b[0;32mIn [671]\u001b[0m, in \u001b[0;36m<cell line: 2>\u001b[0;34m()\u001b[0m\n\u001b[1;32m      1\u001b[0m datasets \u001b[38;5;241m=\u001b[39m tweets\u001b[38;5;241m.\u001b[39mitems()\n\u001b[1;32m      2\u001b[0m \u001b[38;5;28;01mfor\u001b[39;00m dataset \u001b[38;5;129;01min\u001b[39;00m datasets:\n\u001b[0;32m----> 3\u001b[0m     lda_model \u001b[38;5;241m=\u001b[39m \u001b[43mlda_model\u001b[49m\u001b[43m(\u001b[49m\u001b[43mdataset\u001b[49m\u001b[43m)\u001b[49m\n\u001b[1;32m      4\u001b[0m     print_topics(lda_model, vectorizer)\n",
      "Input \u001b[0;32mIn [669]\u001b[0m, in \u001b[0;36mlda_model\u001b[0;34m(tweet_dict)\u001b[0m\n\u001b[1;32m      1\u001b[0m \u001b[38;5;28;01mdef\u001b[39;00m \u001b[38;5;21mlda_model\u001b[39m(tweet_dict):\n\u001b[1;32m      2\u001b[0m     \u001b[38;5;28;01mfor\u001b[39;00m i \u001b[38;5;129;01min\u001b[39;00m \u001b[38;5;28mrange\u001b[39m(\u001b[38;5;241m0\u001b[39m, \u001b[38;5;28mlen\u001b[39m(tweet_dict)):\n\u001b[0;32m----> 3\u001b[0m         \u001b[38;5;28;01mfor\u001b[39;00m presname, dataframe \u001b[38;5;129;01min\u001b[39;00m \u001b[38;5;28mlist\u001b[39m(\u001b[43mtweet_dict\u001b[49m\u001b[38;5;241;43m.\u001b[39;49m\u001b[43mitems\u001b[49m())[i]:\n\u001b[1;32m      4\u001b[0m             vectorizer \u001b[38;5;241m=\u001b[39m TfidfVectorizer()\u001b[38;5;241m.\u001b[39mfit(dataframe[\u001b[38;5;124m'\u001b[39m\u001b[38;5;124mclean_content\u001b[39m\u001b[38;5;124m'\u001b[39m])\n\u001b[1;32m      5\u001b[0m             data_vectorized \u001b[38;5;241m=\u001b[39m vectorizer\u001b[38;5;241m.\u001b[39mtransform(dataframe[\u001b[38;5;124m'\u001b[39m\u001b[38;5;124mclean_content\u001b[39m\u001b[38;5;124m'\u001b[39m])\n",
      "\u001b[0;31mAttributeError\u001b[0m: 'tuple' object has no attribute 'items'"
     ]
    }
   ],
   "source": [
    "datasets = tweets.items()\n",
    "for dataset in datasets:\n",
    "    lda_model = lda_model(dataset)\n",
    "    print_topics(lda_model, vectorizer)"
   ]
  },
  {
   "cell_type": "code",
   "execution_count": 668,
   "id": "b7062c59",
   "metadata": {},
   "outputs": [
    {
     "data": {
      "text/plain": [
       "('johnson',\n",
       "                        id                                                url  \\\n",
       " 0     1506711585468911621  https://twitter.com/BorisJohnson/status/150671...   \n",
       " 1     1506684769559621633  https://twitter.com/BorisJohnson/status/150668...   \n",
       " 2     1506675316273692678  https://twitter.com/BorisJohnson/status/150667...   \n",
       " 3     1506647014209200130  https://twitter.com/BorisJohnson/status/150664...   \n",
       " 4     1506588800868392962  https://twitter.com/BorisJohnson/status/150658...   \n",
       " ...                   ...                                                ...   \n",
       " 4327   583712249975439360  https://twitter.com/BorisJohnson/status/583712...   \n",
       " 4328   583710080522002432  https://twitter.com/BorisJohnson/status/583710...   \n",
       " 4329   583565249111920640  https://twitter.com/BorisJohnson/status/583565...   \n",
       " 4330   583376627289075712  https://twitter.com/BorisJohnson/status/583376...   \n",
       " 4331   583374543902941184  https://twitter.com/BorisJohnson/status/583374...   \n",
       " \n",
       "                            date  \\\n",
       " 0     2022-03-23 19:16:49+00:00   \n",
       " 1     2022-03-23 17:30:16+00:00   \n",
       " 2     2022-03-23 16:52:42+00:00   \n",
       " 3     2022-03-23 15:00:14+00:00   \n",
       " 4     2022-03-23 11:08:55+00:00   \n",
       " ...                         ...   \n",
       " 4327  2015-04-02 19:26:59+00:00   \n",
       " 4328  2015-04-02 19:18:22+00:00   \n",
       " 4329  2015-04-02 09:42:52+00:00   \n",
       " 4330  2015-04-01 21:13:21+00:00   \n",
       " 4331  2015-04-01 21:05:04+00:00   \n",
       " \n",
       "                                                 content  \\\n",
       " 0     In 2019 I promised to equalise National Insura...   \n",
       " 1     I spoke to President @ZelenskyyUa and reiterat...   \n",
       " 2     Those lost to Covid will never be out of our h...   \n",
       " 3     We're cutting taxes for hardworking people:\\n ...   \n",
       " 4     The UK &amp; Ireland bid for the UEFA Euro 202...   \n",
       " ...                                                 ...   \n",
       " 4327  Again Mili says he would make cuts - on what a...   \n",
       " 4328  How is Mili going to cut the deficit? He can't...   \n",
       " 4329  Good to see yet more business leaders backing ...   \n",
       " 4330  Cracking morning in Hendon with a great swathe...   \n",
       " 4331  Good evening Twittersphere. This is Boris, com...   \n",
       " \n",
       "                             hashtags  cashtags  \\\n",
       " 0            ['SpringStatement2022']       NaN   \n",
       " 1                                NaN       NaN   \n",
       " 2                                NaN       NaN   \n",
       " 3                                NaN       NaN   \n",
       " 4                                NaN       NaN   \n",
       " ...                              ...       ...   \n",
       " 4327               ['leadersdebate']       NaN   \n",
       " 4328  ['militripe', 'leadersdebate']       NaN   \n",
       " 4329              ['businessletter']       NaN   \n",
       " 4330                             NaN       NaN   \n",
       " 4331                             NaN       NaN   \n",
       " \n",
       "                                                   media lang  \\\n",
       " 0                                                   NaN   en   \n",
       " 1     [{'_type': 'snscrape.modules.twitter.Photo', '...   en   \n",
       " 2     [{'_type': 'snscrape.modules.twitter.Photo', '...   en   \n",
       " 3                                                   NaN   en   \n",
       " 4                                                   NaN   en   \n",
       " ...                                                 ...  ...   \n",
       " 4327                                                NaN   en   \n",
       " 4328                                                NaN   en   \n",
       " 4329                                                NaN   en   \n",
       " 4330                                                NaN   en   \n",
       " 4331                                                NaN   en   \n",
       " \n",
       "                                           clean_content  polarity  objectivity  \n",
       " 0     promised equalise national insurance income ta...  0.000000     0.100000  \n",
       " 1     spoke president zelenskyyua reiterated uk ’ ho...  0.000000     0.000000  \n",
       " 2     lost covid never hearts minds today reflect na...  0.000000     0.000000  \n",
       " 3     cutting taxes hardworking people matching nics... -0.310000     0.631667  \n",
       " 4     uk amp ireland bid uefa euro government ’ full...  0.375000     0.725000  \n",
       " ...                                                 ...       ...          ...  \n",
       " 4327  mili says would make cuts cameron zapped labou...  0.000000     0.000000  \n",
       " 4328  mili going cut deficit cant sayblank nonsense ...  0.000000     0.000000  \n",
       " 4329  good see yet business leaders backing policies...  0.700000     0.600000  \n",
       " 4330  cracking morning hendon great swathe supporter...  0.800000     0.750000  \n",
       " 4331  good evening twittersphere boris communicating...  0.312121     0.500000  \n",
       " \n",
       " [4332 rows x 11 columns])"
      ]
     },
     "execution_count": 668,
     "metadata": {},
     "output_type": "execute_result"
    }
   ],
   "source": [
    "list(tweets.items())[0]"
   ]
  },
  {
   "cell_type": "code",
   "execution_count": null,
   "id": "7cb43cca",
   "metadata": {},
   "outputs": [],
   "source": []
  }
 ],
 "metadata": {
  "kernelspec": {
   "display_name": "Python 3 (ipykernel)",
   "language": "python",
   "name": "python3"
  },
  "language_info": {
   "codemirror_mode": {
    "name": "ipython",
    "version": 3
   },
   "file_extension": ".py",
   "mimetype": "text/x-python",
   "name": "python",
   "nbconvert_exporter": "python",
   "pygments_lexer": "ipython3",
   "version": "3.8.12"
  },
  "toc": {
   "base_numbering": 1,
   "nav_menu": {},
   "number_sections": true,
   "sideBar": true,
   "skip_h1_title": false,
   "title_cell": "Table of Contents",
   "title_sidebar": "Contents",
   "toc_cell": false,
   "toc_position": {},
   "toc_section_display": true,
   "toc_window_display": false
  }
 },
 "nbformat": 4,
 "nbformat_minor": 5
}
