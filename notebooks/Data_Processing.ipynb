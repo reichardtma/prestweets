{
 "cells": [
  {
   "cell_type": "code",
   "execution_count": 92,
   "id": "d572797f",
   "metadata": {},
   "outputs": [],
   "source": [
    "import os\n",
    "import pandas as pd\n",
    "from deep_translator import (GoogleTranslator,\n",
    "                             PonsTranslator,\n",
    "                             LingueeTranslator,\n",
    "                             MyMemoryTranslator)\n",
    "import string \n",
    "from nltk.stem import WordNetLemmatizer\n",
    "from nltk.corpus import stopwords \n",
    "from nltk.tokenize import word_tokenize\n",
    "from sklearn.feature_extraction.text import TfidfVectorizer\n",
    "from sklearn.decomposition import LatentDirichletAllocation\n",
    "from textblob import TextBlob"
   ]
  },
  {
   "cell_type": "markdown",
   "id": "6ab62417",
   "metadata": {},
   "source": [
    "## Downloading Data"
   ]
  },
  {
   "cell_type": "code",
   "execution_count": 117,
   "id": "f6cc48ae",
   "metadata": {},
   "outputs": [],
   "source": [
    "usernames = [\"jokowi\"]"
   ]
  },
  {
   "cell_type": "code",
   "execution_count": 118,
   "id": "769ae564",
   "metadata": {},
   "outputs": [],
   "source": [
    "def save_tweets(username):\n",
    "    data = None\n",
    "\n",
    "    os.system(\n",
    "            f'snscrape --jsonl --progress --max-results 500 twitter-user {username} > twitter-@{username}-small.json')\n",
    "\n",
    "    tweets_df = pd.read_json(f'twitter-@{username}-small.json', lines=True)\n",
    "    df = tweets_df[[\"id\", \"url\", \"date\", \"content\",\n",
    "                        \"hashtags\", \"cashtags\", \"media\", \"lang\"]]\n",
    "    if data is None:\n",
    "        data = df\n",
    "    else:\n",
    "        data = data.append(df)\n",
    "        \n",
    "    #Translate the tweets\n",
    "    if df.lang[0] != \"en\" and df.lang[17] != \"en\":\n",
    "        df['translation'] = df.apply(lambda row: GoogleTranslator(source='auto', target='english').translate(text=f'{row.content}'), axis=1)\n",
    "    \n",
    "    #Save as csv file\n",
    "    df.to_csv(f\"{username}_tweets-small.csv\")"
   ]
  },
  {
   "cell_type": "code",
   "execution_count": 119,
   "id": "8012bbc3",
   "metadata": {},
   "outputs": [
    {
     "name": "stderr",
     "output_type": "stream",
     "text": [
      "Scraping, 100 results so far\n",
      "Scraping, 200 results so far\n",
      "Scraping, 300 results so far\n",
      "Scraping, 400 results so far\n",
      "Scraping, 500 results so far\n",
      "Stopped scraping after 500 results due to --max-results\n"
     ]
    },
    {
     "name": "stdout",
     "output_type": "stream",
     "text": [
      "CPU times: user 11.1 s, sys: 489 ms, total: 11.6 s\n",
      "Wall time: 1min 46s\n"
     ]
    },
    {
     "name": "stderr",
     "output_type": "stream",
     "text": [
      "/tmp/ipykernel_8278/354306535.py:17: SettingWithCopyWarning: \n",
      "A value is trying to be set on a copy of a slice from a DataFrame.\n",
      "Try using .loc[row_indexer,col_indexer] = value instead\n",
      "\n",
      "See the caveats in the documentation: https://pandas.pydata.org/pandas-docs/stable/user_guide/indexing.html#returning-a-view-versus-a-copy\n",
      "  df['translation'] = df.apply(lambda row: GoogleTranslator(source='auto', target='english').translate(text=f'{row.content}'), axis=1)\n"
     ]
    }
   ],
   "source": [
    "%%time\n",
    "for username in usernames:\n",
    "    save_tweets(username)"
   ]
  },
  {
   "cell_type": "markdown",
   "id": "32b3b1c6",
   "metadata": {},
   "source": [
    "## Processing Data"
   ]
  },
  {
   "cell_type": "code",
   "execution_count": 144,
   "id": "c68646fa",
   "metadata": {},
   "outputs": [
    {
     "data": {
      "text/html": [
       "<div>\n",
       "<style scoped>\n",
       "    .dataframe tbody tr th:only-of-type {\n",
       "        vertical-align: middle;\n",
       "    }\n",
       "\n",
       "    .dataframe tbody tr th {\n",
       "        vertical-align: top;\n",
       "    }\n",
       "\n",
       "    .dataframe thead th {\n",
       "        text-align: right;\n",
       "    }\n",
       "</style>\n",
       "<table border=\"1\" class=\"dataframe\">\n",
       "  <thead>\n",
       "    <tr style=\"text-align: right;\">\n",
       "      <th></th>\n",
       "      <th>id</th>\n",
       "      <th>url</th>\n",
       "      <th>date</th>\n",
       "      <th>content</th>\n",
       "      <th>hashtags</th>\n",
       "      <th>cashtags</th>\n",
       "      <th>media</th>\n",
       "      <th>lang</th>\n",
       "      <th>Translation</th>\n",
       "    </tr>\n",
       "  </thead>\n",
       "  <tbody>\n",
       "    <tr>\n",
       "      <th>0</th>\n",
       "      <td>1505647680197996546</td>\n",
       "      <td>https://twitter.com/EmmanuelMacron/status/1505...</td>\n",
       "      <td>2022-03-20 20:49:15+00:00</td>\n",
       "      <td>Face au terrorisme, nous avons résisté. Et nou...</td>\n",
       "      <td>NaN</td>\n",
       "      <td>NaN</td>\n",
       "      <td>[{'_type': 'snscrape.modules.twitter.Video', '...</td>\n",
       "      <td>fr</td>\n",
       "      <td>Faced with terrorism, we resisted. And we will...</td>\n",
       "    </tr>\n",
       "    <tr>\n",
       "      <th>1</th>\n",
       "      <td>1505625501141975043</td>\n",
       "      <td>https://twitter.com/EmmanuelMacron/status/1505...</td>\n",
       "      <td>2022-03-20 19:21:07+00:00</td>\n",
       "      <td>Imad Ibn Ziaten, 30 ans.\\nAbel Chennouf, 25 an...</td>\n",
       "      <td>NaN</td>\n",
       "      <td>NaN</td>\n",
       "      <td>[{'_type': 'snscrape.modules.twitter.Photo', '...</td>\n",
       "      <td>fr</td>\n",
       "      <td>Imad Ibn Ziaten, 30 years old.\\nAbel Chennouf,...</td>\n",
       "    </tr>\n",
       "  </tbody>\n",
       "</table>\n",
       "</div>"
      ],
      "text/plain": [
       "                    id                                                url  \\\n",
       "0  1505647680197996546  https://twitter.com/EmmanuelMacron/status/1505...   \n",
       "1  1505625501141975043  https://twitter.com/EmmanuelMacron/status/1505...   \n",
       "\n",
       "                        date  \\\n",
       "0  2022-03-20 20:49:15+00:00   \n",
       "1  2022-03-20 19:21:07+00:00   \n",
       "\n",
       "                                             content hashtags  cashtags  \\\n",
       "0  Face au terrorisme, nous avons résisté. Et nou...      NaN       NaN   \n",
       "1  Imad Ibn Ziaten, 30 ans.\\nAbel Chennouf, 25 an...      NaN       NaN   \n",
       "\n",
       "                                               media lang  \\\n",
       "0  [{'_type': 'snscrape.modules.twitter.Video', '...   fr   \n",
       "1  [{'_type': 'snscrape.modules.twitter.Photo', '...   fr   \n",
       "\n",
       "                                         Translation  \n",
       "0  Faced with terrorism, we resisted. And we will...  \n",
       "1  Imad Ibn Ziaten, 30 years old.\\nAbel Chennouf,...  "
      ]
     },
     "execution_count": 144,
     "metadata": {},
     "output_type": "execute_result"
    }
   ],
   "source": [
    "data = pd.read_csv(\"EmmanuelMacron_tweets.csv\")\n",
    "data = data.drop(columns=['Unnamed: 0'])\n",
    "data.head(2)"
   ]
  },
  {
   "cell_type": "code",
   "execution_count": 145,
   "id": "efb8b425",
   "metadata": {},
   "outputs": [],
   "source": [
    "def remove_punctuation(s):\n",
    "    s = ''.join([i for i in s if i not in string.punctuation])\n",
    "    return s"
   ]
  },
  {
   "cell_type": "code",
   "execution_count": 146,
   "id": "83e8954e",
   "metadata": {},
   "outputs": [],
   "source": [
    "def lower_case(s):\n",
    "    s = s.lower()\n",
    "    return s"
   ]
  },
  {
   "cell_type": "code",
   "execution_count": 147,
   "id": "7de9170c",
   "metadata": {},
   "outputs": [],
   "source": [
    "def remove_numbers(s):\n",
    "    s = ''.join(word for word in s if not word.isdigit())\n",
    "    return s"
   ]
  },
  {
   "cell_type": "code",
   "execution_count": 148,
   "id": "fa8c8840",
   "metadata": {},
   "outputs": [],
   "source": [
    "def lemmatize(s):\n",
    "    lemmatizer = WordNetLemmatizer()\n",
    "    s = ''.join(lemmatizer.lemmatize(word) for word in s)\n",
    "    return s"
   ]
  },
  {
   "cell_type": "code",
   "execution_count": 149,
   "id": "7c503bec",
   "metadata": {},
   "outputs": [],
   "source": [
    "def stop_words(s):\n",
    "    stop_words = set(stopwords.words('english')) \n",
    "    word_tokens = word_tokenize(s) \n",
    "    s = ' '.join(w for w in word_tokens if not w in stop_words)\n",
    "    return s"
   ]
  },
  {
   "cell_type": "code",
   "execution_count": 151,
   "id": "58841c39",
   "metadata": {},
   "outputs": [
    {
     "data": {
      "text/html": [
       "<div>\n",
       "<style scoped>\n",
       "    .dataframe tbody tr th:only-of-type {\n",
       "        vertical-align: middle;\n",
       "    }\n",
       "\n",
       "    .dataframe tbody tr th {\n",
       "        vertical-align: top;\n",
       "    }\n",
       "\n",
       "    .dataframe thead th {\n",
       "        text-align: right;\n",
       "    }\n",
       "</style>\n",
       "<table border=\"1\" class=\"dataframe\">\n",
       "  <thead>\n",
       "    <tr style=\"text-align: right;\">\n",
       "      <th></th>\n",
       "      <th>id</th>\n",
       "      <th>url</th>\n",
       "      <th>date</th>\n",
       "      <th>content</th>\n",
       "      <th>hashtags</th>\n",
       "      <th>cashtags</th>\n",
       "      <th>media</th>\n",
       "      <th>lang</th>\n",
       "      <th>Translation</th>\n",
       "      <th>clean_translation</th>\n",
       "    </tr>\n",
       "  </thead>\n",
       "  <tbody>\n",
       "    <tr>\n",
       "      <th>0</th>\n",
       "      <td>1505647680197996546</td>\n",
       "      <td>https://twitter.com/EmmanuelMacron/status/1505...</td>\n",
       "      <td>2022-03-20 20:49:15+00:00</td>\n",
       "      <td>Face au terrorisme, nous avons résisté. Et nou...</td>\n",
       "      <td>NaN</td>\n",
       "      <td>NaN</td>\n",
       "      <td>[{'_type': 'snscrape.modules.twitter.Video', '...</td>\n",
       "      <td>fr</td>\n",
       "      <td>Faced with terrorism, we resisted. And we will...</td>\n",
       "      <td>faced terrorism resisted continue httpstcoxnef...</td>\n",
       "    </tr>\n",
       "    <tr>\n",
       "      <th>1</th>\n",
       "      <td>1505625501141975043</td>\n",
       "      <td>https://twitter.com/EmmanuelMacron/status/1505...</td>\n",
       "      <td>2022-03-20 19:21:07+00:00</td>\n",
       "      <td>Imad Ibn Ziaten, 30 ans.\\nAbel Chennouf, 25 an...</td>\n",
       "      <td>NaN</td>\n",
       "      <td>NaN</td>\n",
       "      <td>[{'_type': 'snscrape.modules.twitter.Photo', '...</td>\n",
       "      <td>fr</td>\n",
       "      <td>Imad Ibn Ziaten, 30 years old.\\nAbel Chennouf,...</td>\n",
       "      <td>imad ibn ziaten years old abel chennouf years ...</td>\n",
       "    </tr>\n",
       "    <tr>\n",
       "      <th>2</th>\n",
       "      <td>1505302971248267267</td>\n",
       "      <td>https://twitter.com/EmmanuelMacron/status/1505...</td>\n",
       "      <td>2022-03-19 21:59:30+00:00</td>\n",
       "      <td>Après 12 ans d’attente, nos Bleus réalisent l’...</td>\n",
       "      <td>NaN</td>\n",
       "      <td>NaN</td>\n",
       "      <td>NaN</td>\n",
       "      <td>fr</td>\n",
       "      <td>After 12 years of waiting, our Blues achieve t...</td>\n",
       "      <td>years waiting blues achieve grand slam feat en...</td>\n",
       "    </tr>\n",
       "  </tbody>\n",
       "</table>\n",
       "</div>"
      ],
      "text/plain": [
       "                    id                                                url  \\\n",
       "0  1505647680197996546  https://twitter.com/EmmanuelMacron/status/1505...   \n",
       "1  1505625501141975043  https://twitter.com/EmmanuelMacron/status/1505...   \n",
       "2  1505302971248267267  https://twitter.com/EmmanuelMacron/status/1505...   \n",
       "\n",
       "                        date  \\\n",
       "0  2022-03-20 20:49:15+00:00   \n",
       "1  2022-03-20 19:21:07+00:00   \n",
       "2  2022-03-19 21:59:30+00:00   \n",
       "\n",
       "                                             content hashtags  cashtags  \\\n",
       "0  Face au terrorisme, nous avons résisté. Et nou...      NaN       NaN   \n",
       "1  Imad Ibn Ziaten, 30 ans.\\nAbel Chennouf, 25 an...      NaN       NaN   \n",
       "2  Après 12 ans d’attente, nos Bleus réalisent l’...      NaN       NaN   \n",
       "\n",
       "                                               media lang  \\\n",
       "0  [{'_type': 'snscrape.modules.twitter.Video', '...   fr   \n",
       "1  [{'_type': 'snscrape.modules.twitter.Photo', '...   fr   \n",
       "2                                                NaN   fr   \n",
       "\n",
       "                                         Translation  \\\n",
       "0  Faced with terrorism, we resisted. And we will...   \n",
       "1  Imad Ibn Ziaten, 30 years old.\\nAbel Chennouf,...   \n",
       "2  After 12 years of waiting, our Blues achieve t...   \n",
       "\n",
       "                                   clean_translation  \n",
       "0  faced terrorism resisted continue httpstcoxnef...  \n",
       "1  imad ibn ziaten years old abel chennouf years ...  \n",
       "2  years waiting blues achieve grand slam feat en...  "
      ]
     },
     "execution_count": 151,
     "metadata": {},
     "output_type": "execute_result"
    }
   ],
   "source": [
    "#Cleaning the strings\n",
    "data['clean_translation'] = data['Translation'].apply(lemmatize).\\\n",
    "apply(lower_case).apply(remove_numbers).apply(remove_punctuation).apply(stop_words)\n",
    "data.head(3)"
   ]
  },
  {
   "cell_type": "markdown",
   "id": "3c88e136",
   "metadata": {},
   "source": [
    "## Textblob Sentiment Analysis"
   ]
  },
  {
   "cell_type": "code",
   "execution_count": 152,
   "id": "26636dd3",
   "metadata": {},
   "outputs": [],
   "source": [
    "def polarity(s):\n",
    "    pol = TextBlob(s)\n",
    "    pol = pol.sentiment[0]\n",
    "    return pol\n",
    "\n",
    "def objectivity(s):\n",
    "    obj = TextBlob(s)\n",
    "    obj = obj.sentiment[1]\n",
    "    return obj"
   ]
  },
  {
   "cell_type": "code",
   "execution_count": 153,
   "id": "108687de",
   "metadata": {},
   "outputs": [
    {
     "data": {
      "text/html": [
       "<div>\n",
       "<style scoped>\n",
       "    .dataframe tbody tr th:only-of-type {\n",
       "        vertical-align: middle;\n",
       "    }\n",
       "\n",
       "    .dataframe tbody tr th {\n",
       "        vertical-align: top;\n",
       "    }\n",
       "\n",
       "    .dataframe thead th {\n",
       "        text-align: right;\n",
       "    }\n",
       "</style>\n",
       "<table border=\"1\" class=\"dataframe\">\n",
       "  <thead>\n",
       "    <tr style=\"text-align: right;\">\n",
       "      <th></th>\n",
       "      <th>id</th>\n",
       "      <th>url</th>\n",
       "      <th>date</th>\n",
       "      <th>content</th>\n",
       "      <th>hashtags</th>\n",
       "      <th>cashtags</th>\n",
       "      <th>media</th>\n",
       "      <th>lang</th>\n",
       "      <th>Translation</th>\n",
       "      <th>clean_translation</th>\n",
       "      <th>polarity</th>\n",
       "      <th>objectivity</th>\n",
       "    </tr>\n",
       "  </thead>\n",
       "  <tbody>\n",
       "    <tr>\n",
       "      <th>0</th>\n",
       "      <td>1505647680197996546</td>\n",
       "      <td>https://twitter.com/EmmanuelMacron/status/1505...</td>\n",
       "      <td>2022-03-20 20:49:15+00:00</td>\n",
       "      <td>Face au terrorisme, nous avons résisté. Et nou...</td>\n",
       "      <td>NaN</td>\n",
       "      <td>NaN</td>\n",
       "      <td>[{'_type': 'snscrape.modules.twitter.Video', '...</td>\n",
       "      <td>fr</td>\n",
       "      <td>Faced with terrorism, we resisted. And we will...</td>\n",
       "      <td>faced terrorism resisted continue httpstcoxnef...</td>\n",
       "      <td>0.0</td>\n",
       "      <td>0.0</td>\n",
       "    </tr>\n",
       "  </tbody>\n",
       "</table>\n",
       "</div>"
      ],
      "text/plain": [
       "                    id                                                url  \\\n",
       "0  1505647680197996546  https://twitter.com/EmmanuelMacron/status/1505...   \n",
       "\n",
       "                        date  \\\n",
       "0  2022-03-20 20:49:15+00:00   \n",
       "\n",
       "                                             content hashtags  cashtags  \\\n",
       "0  Face au terrorisme, nous avons résisté. Et nou...      NaN       NaN   \n",
       "\n",
       "                                               media lang  \\\n",
       "0  [{'_type': 'snscrape.modules.twitter.Video', '...   fr   \n",
       "\n",
       "                                         Translation  \\\n",
       "0  Faced with terrorism, we resisted. And we will...   \n",
       "\n",
       "                                   clean_translation  polarity  objectivity  \n",
       "0  faced terrorism resisted continue httpstcoxnef...       0.0          0.0  "
      ]
     },
     "execution_count": 153,
     "metadata": {},
     "output_type": "execute_result"
    }
   ],
   "source": [
    "data['polarity'] = data['clean_translation'].apply(polarity)\n",
    "data['objectivity'] = data['clean_translation'].apply(objectivity)\n",
    "data.head(1)"
   ]
  },
  {
   "cell_type": "code",
   "execution_count": 154,
   "id": "67ee6386",
   "metadata": {},
   "outputs": [
    {
     "data": {
      "text/plain": [
       "0.08449501490081364"
      ]
     },
     "execution_count": 154,
     "metadata": {},
     "output_type": "execute_result"
    }
   ],
   "source": [
    "data['polarity'].mean()"
   ]
  },
  {
   "cell_type": "code",
   "execution_count": 155,
   "id": "3735c93b",
   "metadata": {},
   "outputs": [
    {
     "data": {
      "text/plain": [
       "0.2669460345232418"
      ]
     },
     "execution_count": 155,
     "metadata": {},
     "output_type": "execute_result"
    }
   ],
   "source": [
    "data['objectivity'].mean()"
   ]
  },
  {
   "cell_type": "markdown",
   "id": "e0cb9aed",
   "metadata": {},
   "source": [
    "## LDA"
   ]
  },
  {
   "cell_type": "code",
   "execution_count": 156,
   "id": "2fc35024",
   "metadata": {},
   "outputs": [],
   "source": [
    "vectorizer = TfidfVectorizer().fit(data['clean_translation'])\n",
    "\n",
    "data_vectorized = vectorizer.transform(data['clean_translation'])\n",
    "\n",
    "lda_model = LatentDirichletAllocation(n_components=4).fit(data_vectorized)"
   ]
  },
  {
   "cell_type": "code",
   "execution_count": 157,
   "id": "d2dcf7d2",
   "metadata": {},
   "outputs": [
    {
     "name": "stdout",
     "output_type": "stream",
     "text": [
      "Topic 0:\n",
      "[('france', 61.31325575453051), ('want', 45.83554721322677), ('french', 44.87398001218307), ('people', 44.64390815982471), ('country', 30.349194475167817), ('support', 29.23265658338248), ('one', 28.647177890793284), ('us', 27.36923026685369), ('new', 26.875999587910158), ('victims', 24.943364957538634)]\n",
      "Topic 1:\n"
     ]
    },
    {
     "name": "stderr",
     "output_type": "stream",
     "text": [
      "/home/reichardtma/.pyenv/versions/3.8.12/envs/prestweets/lib/python3.8/site-packages/sklearn/utils/deprecation.py:87: FutureWarning: Function get_feature_names is deprecated; get_feature_names is deprecated in 1.0 and will be removed in 1.2. Please use get_feature_names_out instead.\n",
      "  warnings.warn(msg, category=FutureWarning)\n"
     ]
    },
    {
     "name": "stdout",
     "output_type": "stream",
     "text": [
      "[('must', 45.582160094684724), ('live', 39.73838772432917), ('france', 38.99298513669721), ('european', 38.08377463282113), ('people', 33.07472456868828), ('europe', 31.458727386373436), ('fight', 27.020493431794996), ('french', 22.553059906154175), ('continue', 22.187410508712727), ('terrorism', 22.129159144261585)]\n",
      "Topic 2:\n",
      "[('france', 28.308540570670377), ('live', 22.84085083958959), ('project', 19.68820339848196), ('french', 19.469753436686542), ('europe', 17.04621068913334), ('want', 16.059883833147296), ('must', 14.164687540586979), ('time', 12.708293905963291), ('today', 12.333275657038367), ('year', 12.226481500034208)]\n",
      "Topic 3:\n",
      "[('europe', 79.16311328123206), ('france', 62.92259962289624), ('us', 52.92080338243677), ('together', 51.66617192337578), ('must', 48.58572407944742), ('european', 48.25548054449619), ('want', 38.226274028669), ('lets', 37.37109791983955), ('french', 34.17537905583736), ('new', 32.420372446209775)]\n"
     ]
    }
   ],
   "source": [
    "def print_topics(model, vectorizer):\n",
    "    for idx, topic in enumerate(model.components_):\n",
    "        print(\"Topic %d:\" % (idx))\n",
    "        print([(vectorizer.get_feature_names()[i], topic[i])\n",
    "                        for i in topic.argsort()[:-10 - 1:-1]])\n",
    "        \n",
    "\n",
    "print_topics(lda_model, vectorizer)"
   ]
  },
  {
   "cell_type": "code",
   "execution_count": null,
   "id": "49fa49fa",
   "metadata": {},
   "outputs": [],
   "source": []
  }
 ],
 "metadata": {
  "kernelspec": {
   "display_name": "Python 3 (ipykernel)",
   "language": "python",
   "name": "python3"
  },
  "language_info": {
   "codemirror_mode": {
    "name": "ipython",
    "version": 3
   },
   "file_extension": ".py",
   "mimetype": "text/x-python",
   "name": "python",
   "nbconvert_exporter": "python",
   "pygments_lexer": "ipython3",
   "version": "3.8.12"
  },
  "toc": {
   "base_numbering": 1,
   "nav_menu": {},
   "number_sections": true,
   "sideBar": true,
   "skip_h1_title": false,
   "title_cell": "Table of Contents",
   "title_sidebar": "Contents",
   "toc_cell": false,
   "toc_position": {},
   "toc_section_display": true,
   "toc_window_display": false
  }
 },
 "nbformat": 4,
 "nbformat_minor": 5
}
