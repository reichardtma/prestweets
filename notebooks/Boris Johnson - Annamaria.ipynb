{
 "cells": [
  {
   "cell_type": "markdown",
   "id": "abbb4866",
   "metadata": {},
   "source": [
    "### Boris Johnson - exploration"
   ]
  },
  {
   "cell_type": "code",
   "execution_count": 28,
   "id": "465f9491",
   "metadata": {
    "scrolled": true
   },
   "outputs": [
    {
     "name": "stdout",
     "output_type": "stream",
     "text": [
      "Collecting textblob\n",
      "  Using cached textblob-0.17.1-py2.py3-none-any.whl (636 kB)\n",
      "Collecting nltk>=3.1\n",
      "  Using cached nltk-3.7-py3-none-any.whl (1.5 MB)\n",
      "Collecting tqdm\n",
      "  Using cached tqdm-4.63.0-py2.py3-none-any.whl (76 kB)\n",
      "Collecting click\n",
      "  Using cached click-8.0.4-py3-none-any.whl (97 kB)\n",
      "Collecting regex>=2021.8.3\n",
      "  Downloading regex-2022.3.15-cp38-cp38-manylinux_2_17_x86_64.manylinux2014_x86_64.whl (764 kB)\n",
      "\u001b[2K     \u001b[90m━━━━━━━━━━━━━━━━━━━━━━━━━━━━━━━━━━━━━━━\u001b[0m \u001b[32m764.9/764.9 KB\u001b[0m \u001b[31m7.6 MB/s\u001b[0m eta \u001b[36m0:00:00\u001b[0ma \u001b[36m0:00:01\u001b[0m\n",
      "\u001b[?25hRequirement already satisfied: joblib in /home/alibor/.pyenv/versions/3.8.12/envs/prestweets/lib/python3.8/site-packages (from nltk>=3.1->textblob) (1.1.0)\n",
      "Installing collected packages: tqdm, regex, click, nltk, textblob\n",
      "Successfully installed click-8.0.4 nltk-3.7 regex-2022.3.15 textblob-0.17.1 tqdm-4.63.0\n"
     ]
    }
   ],
   "source": [
    "!pip install textblob"
   ]
  },
  {
   "cell_type": "code",
   "execution_count": 35,
   "id": "a3d0b92e",
   "metadata": {},
   "outputs": [
    {
     "name": "stdout",
     "output_type": "stream",
     "text": [
      "[nltk_data] Downloading package brown to /home/alibor/nltk_data...\n",
      "[nltk_data]   Unzipping corpora/brown.zip.\n",
      "[nltk_data] Downloading package punkt to /home/alibor/nltk_data...\n",
      "[nltk_data]   Package punkt is already up-to-date!\n",
      "[nltk_data] Downloading package wordnet to /home/alibor/nltk_data...\n",
      "[nltk_data]   Package wordnet is already up-to-date!\n",
      "[nltk_data] Downloading package averaged_perceptron_tagger to\n",
      "[nltk_data]     /home/alibor/nltk_data...\n",
      "[nltk_data]   Unzipping taggers/averaged_perceptron_tagger.zip.\n",
      "[nltk_data] Downloading package conll2000 to /home/alibor/nltk_data...\n",
      "[nltk_data]   Unzipping corpora/conll2000.zip.\n",
      "[nltk_data] Downloading package movie_reviews to\n",
      "[nltk_data]     /home/alibor/nltk_data...\n",
      "[nltk_data]   Unzipping corpora/movie_reviews.zip.\n",
      "Finished.\n"
     ]
    }
   ],
   "source": [
    "!python -m textblob.download_corpora"
   ]
  },
  {
   "cell_type": "code",
   "execution_count": 33,
   "id": "6676e08c",
   "metadata": {
    "scrolled": true
   },
   "outputs": [],
   "source": [
    "import json\n",
    "import pandas as pd\n",
    "import os\n",
    "from textblob import TextBlob\n",
    "import nltk"
   ]
  },
  {
   "cell_type": "code",
   "execution_count": 17,
   "id": "dd5091f6",
   "metadata": {},
   "outputs": [
    {
     "name": "stdout",
     "output_type": "stream",
     "text": [
      "/home/alibor/code/reichardtma/prestweets/notebooks\n"
     ]
    }
   ],
   "source": [
    "\n",
    "print(os.getcwd())"
   ]
  },
  {
   "cell_type": "code",
   "execution_count": 23,
   "id": "0386f751",
   "metadata": {
    "scrolled": true
   },
   "outputs": [
    {
     "name": "stderr",
     "output_type": "stream",
     "text": [
      "Scraping, 100 results so far\n",
      "Scraping, 200 results so far\n",
      "Scraping, 300 results so far\n",
      "Scraping, 400 results so far\n",
      "Scraping, 500 results so far\n",
      "Scraping, 600 results so far\n",
      "Scraping, 700 results so far\n",
      "Scraping, 800 results so far\n",
      "Scraping, 900 results so far\n",
      "Scraping, 1000 results so far\n",
      "Scraping, 1100 results so far\n",
      "Scraping, 1200 results so far\n",
      "Scraping, 1300 results so far\n",
      "Scraping, 1400 results so far\n",
      "Scraping, 1500 results so far\n",
      "Scraping, 1600 results so far\n",
      "Scraping, 1700 results so far\n",
      "Scraping, 1800 results so far\n",
      "Scraping, 1900 results so far\n",
      "Scraping, 2000 results so far\n",
      "Scraping, 2100 results so far\n",
      "Scraping, 2200 results so far\n",
      "Scraping, 2300 results so far\n",
      "Scraping, 2400 results so far\n",
      "Scraping, 2500 results so far\n",
      "Scraping, 2600 results so far\n",
      "Scraping, 2700 results so far\n",
      "Scraping, 2800 results so far\n",
      "Scraping, 2900 results so far\n",
      "Scraping, 3000 results so far\n",
      "Scraping, 3100 results so far\n",
      "Scraping, 3200 results so far\n",
      "Scraping, 3300 results so far\n",
      "Scraping, 3400 results so far\n",
      "Scraping, 3500 results so far\n",
      "Scraping, 3600 results so far\n",
      "Scraping, 3700 results so far\n",
      "Scraping, 3800 results so far\n",
      "Scraping, 3900 results so far\n",
      "Scraping, 4000 results so far\n",
      "Scraping, 4100 results so far\n",
      "Scraping, 4200 results so far\n",
      "Scraping, 4300 results so far\n",
      "Finished, 4323 results\n"
     ]
    },
    {
     "data": {
      "text/plain": [
       "0       Ahead of the NATO and G7 meetings this week, I...\n",
       "1       I spoke to @KlausIohannis earlier and welcomed...\n",
       "2       This World Down Syndrome Day, I’d like to than...\n",
       "3       Terrible news about the China Eastern Airlines...\n",
       "4       I spoke to President @ZelenskyyUa this afterno...\n",
       "                              ...                        \n",
       "4318    Again Mili says he would make cuts - on what a...\n",
       "4319    How is Mili going to cut the deficit? He can't...\n",
       "4320    Good to see yet more business leaders backing ...\n",
       "4321    Cracking morning in Hendon with a great swathe...\n",
       "4322    Good evening Twittersphere. This is Boris, com...\n",
       "Name: content, Length: 4323, dtype: object"
      ]
     },
     "execution_count": 23,
     "metadata": {},
     "output_type": "execute_result"
    }
   ],
   "source": [
    "data = None\n",
    "       \n",
    "os.system(\n",
    "        f'snscrape --jsonl --progress twitter-user borisjohnson > twitter-borisjohnson1.json')\n",
    "\n",
    "tweets_df = pd.read_json('twitter-borisjohnson1.json', lines=True)\n",
    "df = tweets_df[[\"id\", \"url\", \"date\", \"content\",\n",
    "                    \"hashtags\", \"cashtags\", \"media\", \"lang\"]]\n",
    "if data is None:\n",
    "    data = df\n",
    "else:\n",
    "    data = data.append(df)\n",
    "\n",
    "df.content"
   ]
  },
  {
   "cell_type": "code",
   "execution_count": 25,
   "id": "a74a6800",
   "metadata": {},
   "outputs": [],
   "source": [
    "boris = df"
   ]
  },
  {
   "cell_type": "code",
   "execution_count": 31,
   "id": "6c8a26f5",
   "metadata": {},
   "outputs": [
    {
     "data": {
      "text/plain": [
       "<bound method NDFrame.describe of 0       Ahead of the NATO and G7 meetings this week, I...\n",
       "1       I spoke to @KlausIohannis earlier and welcomed...\n",
       "2       This World Down Syndrome Day, I’d like to than...\n",
       "3       Terrible news about the China Eastern Airlines...\n",
       "4       I spoke to President @ZelenskyyUa this afterno...\n",
       "                              ...                        \n",
       "4318    Again Mili says he would make cuts - on what a...\n",
       "4319    How is Mili going to cut the deficit? He can't...\n",
       "4320    Good to see yet more business leaders backing ...\n",
       "4321    Cracking morning in Hendon with a great swathe...\n",
       "4322    Good evening Twittersphere. This is Boris, com...\n",
       "Name: content, Length: 4323, dtype: object>"
      ]
     },
     "execution_count": 31,
     "metadata": {},
     "output_type": "execute_result"
    }
   ],
   "source": [
    "boris.content.describe"
   ]
  },
  {
   "cell_type": "code",
   "execution_count": 38,
   "id": "4501f95d",
   "metadata": {},
   "outputs": [],
   "source": [
    "blob = {}\n",
    "for tweet in boris.content:\n",
    "    each = TextBlob(tweet)\n",
    "    blob[tweet] = each.sentiment.polarity"
   ]
  },
  {
   "cell_type": "code",
   "execution_count": 42,
   "id": "744e4e20",
   "metadata": {},
   "outputs": [
    {
     "data": {
      "text/plain": [
       "0.0"
      ]
     },
     "execution_count": 42,
     "metadata": {},
     "output_type": "execute_result"
    }
   ],
   "source": [
    "blob[boris.content[1]]"
   ]
  },
  {
   "cell_type": "code",
   "execution_count": null,
   "id": "cf80cef0",
   "metadata": {},
   "outputs": [],
   "source": []
  }
 ],
 "metadata": {
  "kernelspec": {
   "display_name": "Python 3 (ipykernel)",
   "language": "python",
   "name": "python3"
  },
  "language_info": {
   "codemirror_mode": {
    "name": "ipython",
    "version": 3
   },
   "file_extension": ".py",
   "mimetype": "text/x-python",
   "name": "python",
   "nbconvert_exporter": "python",
   "pygments_lexer": "ipython3",
   "version": "3.8.12"
  },
  "toc": {
   "base_numbering": 1,
   "nav_menu": {},
   "number_sections": true,
   "sideBar": true,
   "skip_h1_title": false,
   "title_cell": "Table of Contents",
   "title_sidebar": "Contents",
   "toc_cell": false,
   "toc_position": {},
   "toc_section_display": true,
   "toc_window_display": false
  }
 },
 "nbformat": 4,
 "nbformat_minor": 5
}
